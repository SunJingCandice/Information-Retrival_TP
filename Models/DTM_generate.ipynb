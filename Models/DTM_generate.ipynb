{
 "cells": [
  {
   "cell_type": "code",
   "execution_count": null,
   "metadata": {},
   "outputs": [],
   "source": [
    "from __future__ import division\n",
    "import pandas as pd\n",
    "import numpy as np\n",
    "import csv\n",
    "import nltk\n",
    "from nltk.stem import PorterStemmer\n",
    "from nltk.tokenize import WordPunctTokenizer\n",
    "import matplotlib"
   ]
  },
  {
   "cell_type": "code",
   "execution_count": null,
   "metadata": {},
   "outputs": [],
   "source": [
    "from sklearn.feature_extraction.text import CountVectorizer\n",
    "from sklearn.feature_extraction.text import TfidfTransformer"
   ]
  },
  {
   "cell_type": "code",
   "execution_count": null,
   "metadata": {},
   "outputs": [],
   "source": [
    "import codecs\n",
    "import re\n",
    "import copy\n",
    "import collections\n",
    "import csv"
   ]
  },
  {
   "cell_type": "code",
   "execution_count": null,
   "metadata": {},
   "outputs": [],
   "source": [
    "####read file\n",
    "\n",
    "#read train.docs file\n",
    "train_doc_file = pd.read_csv(\"train.docs\", encoding = 'utf-8', sep='\\t', header=None)\n",
    "train_doc_file.columns = ['id', 'text']\n",
    "\n",
    "#read train.nontopic-titles.queries file\n",
    "train_query_file = pd.read_csv(\"train.nontopic-titles.queries\", encoding = 'utf-8', sep='\\t', header=None)\n",
    "train_query_file.columns = ['id', 'text']\n"
   ]
  },
  {
   "cell_type": "code",
   "execution_count": null,
   "metadata": {},
   "outputs": [],
   "source": [
    "### import stopwords list\n",
    "nltk.download(\"stopwords\")\n",
    "from nltk.corpus import stopwords\n",
    "esw = stopwords.words(\"english\")"
   ]
  },
  {
   "cell_type": "code",
   "execution_count": null,
   "metadata": {},
   "outputs": [],
   "source": [
    "# generate tokens list \n",
    "word_pattern = re.compile(\"^\\w+$\")\n",
    "def get_text_counter(text):\n",
    "    tokens = list()\n",
    "    for el in text:\n",
    "        tokens = tokens + WordPunctTokenizer().tokenize(PorterStemmer().stem(el))\n",
    "    \n",
    "    tokens = list(map(lambda x: x.lower(), tokens))\n",
    "    tokens = [token for token in tokens if re.match(word_pattern, token) and token not in esw]\n",
    "    return collections.Counter(tokens), len(tokens)"
   ]
  },
  {
   "cell_type": "code",
   "execution_count": null,
   "metadata": {},
   "outputs": [],
   "source": [
    "# get term frequency list \n",
    "def get_term_freq(tokens, size):\n",
    "    abs_tf = np.array([el[1] for el in tokens])\n",
    "    rel_tf = abs_tf/size\n",
    "    index = np.array([el[0] for el in tokens])\n",
    "    df = pd.DataFrame(data = np.array([abs_tf, rel_tf]).T, index = index, columns = (['term frequency', 'relative frequency']))\n",
    "    df.index.name = 'term'\n",
    "    return df"
   ]
  },
  {
   "cell_type": "code",
   "execution_count": null,
   "metadata": {},
   "outputs": [],
   "source": [
    "# get the term frequency list of train.docs\n",
    "counter, size = get_text_counter(train_doc_file.text)\n",
    "\n",
    "train_df = get_term_freq(counter.most_common(size), size)\n",
    "train_df.to_csv(\"train_term_frequency.csv\")\n",
    "\n",
    "# get the term frequency list of train.nontopic-titles.queries\n",
    "counter, size = get_text_counter(train_query_file.text)\n",
    "\n",
    "train_df = get_term_freq(counter.most_common(size), size)\n",
    "train_df.to_csv(\"train_query_term_frequency.csv\")"
   ]
  },
  {
   "cell_type": "code",
   "execution_count": null,
   "metadata": {
    "scrolled": false
   },
   "outputs": [],
   "source": [
    "## preprocessing\n",
    "\n",
    "#remove \"num\", because \"num\" has the highest term frequency(45538) at the orinal file, \n",
    "#the second most frequent term only has a freq. of 3750\n",
    "\n",
    "train_doc_file[\"text\"] = train_doc_file['text'].str.replace('num', '')"
   ]
  },
  {
   "cell_type": "code",
   "execution_count": null,
   "metadata": {},
   "outputs": [],
   "source": [
    "### create DTM\n",
    "\n",
    " ## get DTM, weighted by tfidf\n",
    "def get_DTM_tfidf(file):\n",
    "    train_count_vect = CountVectorizer(stop_words = esw) #remove english stopwords\n",
    "    X_train_counts = train_count_vect.fit_transform(file)\n",
    "\n",
    "    tfidf_transformer = TfidfTransformer()\n",
    "    X_train_tfidf = tfidf_transformer.fit_transform(X_train_counts)\n",
    "    return X_train_tfidf\n",
    "\n",
    "\n",
    "## get DTM, weighted by tfidf\n",
    "def get_DTM_tf(file):\n",
    "    train_count_vect = CountVectorizer(stop_words = esw) #remove english stopwords\n",
    "    X_train_counts = train_count_vect.fit_transform(file)\n",
    "\n",
    "    tf_transformer = TfidfTransformer(use_idf=False).fit(X_train_counts)\n",
    "    X_train_tf = tf_transformer.transform(X_train_counts)\n",
    "    return X_train_tf\n",
    "\n",
    "\n"
   ]
  },
  {
   "cell_type": "code",
   "execution_count": null,
   "metadata": {},
   "outputs": [],
   "source": [
    "### create tfidf weighted DTM for the train.docs file\n",
    "train_tfidf = get_DTM_tfidf(train_doc_file.text)\n",
    "train_tfidf"
   ]
  },
  {
   "cell_type": "code",
   "execution_count": null,
   "metadata": {
    "scrolled": true
   },
   "outputs": [],
   "source": [
    "###Generate the query vector\n",
    "def get_QueryVector(queryFile, docFile=train_doc_file.text):\n",
    "    train_count_vect = CountVectorizer(stop_words = esw) #remove english stopwords\n",
    "    X_train_counts = train_count_vect.fit_transform(docFile)\n",
    "    vocabulary = list(train_count_vect.vocabulary_.keys())\n",
    "    query_vect = CountVectorizer( stop_words = esw, analyzer = \"word\", vocabulary = vocabulary)\n",
    "    query_vect = query_vect.fit_transform(queryFile)\n",
    "    return query_vect"
   ]
  },
  {
   "cell_type": "code",
   "execution_count": null,
   "metadata": {},
   "outputs": [],
   "source": [
    "### create query vector matrix for the train.nontopic-titles.queries file \n",
    "#query_vect = get_QueryVector(train_query_file.text, train_doc_file.text)\n",
    "#query_vect"
   ]
  }
 ],
 "metadata": {
  "kernelspec": {
   "display_name": "Python 3",
   "language": "python",
   "name": "python3"
  },
  "language_info": {
   "codemirror_mode": {
    "name": "ipython",
    "version": 3
   },
   "file_extension": ".py",
   "mimetype": "text/x-python",
   "name": "python",
   "nbconvert_exporter": "python",
   "pygments_lexer": "ipython3",
   "version": "3.6.4"
  }
 },
 "nbformat": 4,
 "nbformat_minor": 2
}
