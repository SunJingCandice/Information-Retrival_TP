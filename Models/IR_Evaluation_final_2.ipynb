{
 "cells": [
  {
   "cell_type": "markdown",
   "metadata": {},
   "source": [
    "# Evaluation"
   ]
  },
  {
   "cell_type": "markdown",
   "metadata": {},
   "source": [
    "In this part, we use our \"IRByBasicRetrieve.txt\" as test datasets to evaluate diffients results files which got form different models.  \n",
    "We used Precison,Recall,P@K, R_precision, MAP, nDCG to evaluate our results.  \n",
    "(AP and MAP are a little time-consuming. If you run please waite for a while.)"
   ]
  },
  {
   "cell_type": "code",
   "execution_count": 88,
   "metadata": {},
   "outputs": [],
   "source": [
    "import pandas as pd\n",
    "import sys \n",
    "import numpy as np"
   ]
  },
  {
   "cell_type": "code",
   "execution_count": 89,
   "metadata": {},
   "outputs": [
    {
     "data": {
      "text/html": [
       "<div>\n",
       "<style scoped>\n",
       "    .dataframe tbody tr th:only-of-type {\n",
       "        vertical-align: middle;\n",
       "    }\n",
       "\n",
       "    .dataframe tbody tr th {\n",
       "        vertical-align: top;\n",
       "    }\n",
       "\n",
       "    .dataframe thead th {\n",
       "        text-align: right;\n",
       "    }\n",
       "</style>\n",
       "<table border=\"1\" class=\"dataframe\">\n",
       "  <thead>\n",
       "    <tr style=\"text-align: right;\">\n",
       "      <th></th>\n",
       "      <th>QUERY_ID</th>\n",
       "      <th>DOC_ID</th>\n",
       "      <th>RELEVANCE_LEVEL</th>\n",
       "    </tr>\n",
       "  </thead>\n",
       "  <tbody>\n",
       "    <tr>\n",
       "      <th>0</th>\n",
       "      <td>PLAIN-10</td>\n",
       "      <td>MED-2054</td>\n",
       "      <td>0.274678</td>\n",
       "    </tr>\n",
       "    <tr>\n",
       "      <th>1</th>\n",
       "      <td>PLAIN-10</td>\n",
       "      <td>MED-1985</td>\n",
       "      <td>0.271303</td>\n",
       "    </tr>\n",
       "    <tr>\n",
       "      <th>2</th>\n",
       "      <td>PLAIN-10</td>\n",
       "      <td>MED-2058</td>\n",
       "      <td>0.258340</td>\n",
       "    </tr>\n",
       "  </tbody>\n",
       "</table>\n",
       "</div>"
      ],
      "text/plain": [
       "   QUERY_ID    DOC_ID  RELEVANCE_LEVEL\n",
       "0  PLAIN-10  MED-2054         0.274678\n",
       "1  PLAIN-10  MED-1985         0.271303\n",
       "2  PLAIN-10  MED-2058         0.258340"
      ]
     },
     "execution_count": 89,
     "metadata": {},
     "output_type": "execute_result"
    }
   ],
   "source": [
    "#Golden Standard\n",
    "test= pd.read_csv('IRByBasicRetrieve.txt', sep=' ',encoding='utf-8', engine='python',names = [\"QUERY_ID\", \"DOC_ID\", \"RELEVANCE_LEVEL\"])\n",
    "test.head(3)"
   ]
  },
  {
   "cell_type": "code",
   "execution_count": 90,
   "metadata": {},
   "outputs": [
    {
     "data": {
      "text/html": [
       "<div>\n",
       "<style scoped>\n",
       "    .dataframe tbody tr th:only-of-type {\n",
       "        vertical-align: middle;\n",
       "    }\n",
       "\n",
       "    .dataframe tbody tr th {\n",
       "        vertical-align: top;\n",
       "    }\n",
       "\n",
       "    .dataframe thead th {\n",
       "        text-align: right;\n",
       "    }\n",
       "</style>\n",
       "<table border=\"1\" class=\"dataframe\">\n",
       "  <thead>\n",
       "    <tr style=\"text-align: right;\">\n",
       "      <th></th>\n",
       "      <th>QUERY_ID</th>\n",
       "      <th>DOC_ID</th>\n",
       "      <th>sim__results</th>\n",
       "    </tr>\n",
       "  </thead>\n",
       "  <tbody>\n",
       "    <tr>\n",
       "      <th>0</th>\n",
       "      <td>PLAIN-10</td>\n",
       "      <td>MED-2494</td>\n",
       "      <td>0.374199</td>\n",
       "    </tr>\n",
       "    <tr>\n",
       "      <th>1</th>\n",
       "      <td>PLAIN-10</td>\n",
       "      <td>MED-5101</td>\n",
       "      <td>0.278249</td>\n",
       "    </tr>\n",
       "    <tr>\n",
       "      <th>2</th>\n",
       "      <td>PLAIN-10</td>\n",
       "      <td>MED-3880</td>\n",
       "      <td>0.259749</td>\n",
       "    </tr>\n",
       "  </tbody>\n",
       "</table>\n",
       "</div>"
      ],
      "text/plain": [
       "   QUERY_ID    DOC_ID  sim__results\n",
       "0  PLAIN-10  MED-2494      0.374199\n",
       "1  PLAIN-10  MED-5101      0.278249\n",
       "2  PLAIN-10  MED-3880      0.259749"
      ]
     },
     "execution_count": 90,
     "metadata": {},
     "output_type": "execute_result"
    }
   ],
   "source": [
    "# read results data \n",
    "results = pd.read_csv('IRByTieredIndex result2.txt', sep=' ',encoding='utf-8', engine='python',names = [\"QUERY_ID\", \"DOC_ID\", \"sim__results\"])\n",
    "results.head(3)"
   ]
  },
  {
   "cell_type": "code",
   "execution_count": 91,
   "metadata": {},
   "outputs": [
    {
     "data": {
      "text/html": [
       "<div>\n",
       "<style scoped>\n",
       "    .dataframe tbody tr th:only-of-type {\n",
       "        vertical-align: middle;\n",
       "    }\n",
       "\n",
       "    .dataframe tbody tr th {\n",
       "        vertical-align: top;\n",
       "    }\n",
       "\n",
       "    .dataframe thead th {\n",
       "        text-align: right;\n",
       "    }\n",
       "</style>\n",
       "<table border=\"1\" class=\"dataframe\">\n",
       "  <thead>\n",
       "    <tr style=\"text-align: right;\">\n",
       "      <th></th>\n",
       "      <th>QUERY_ID</th>\n",
       "      <th>DOC_ID</th>\n",
       "    </tr>\n",
       "  </thead>\n",
       "  <tbody>\n",
       "    <tr>\n",
       "      <th>0</th>\n",
       "      <td>PLAIN-10</td>\n",
       "      <td>MED-2494</td>\n",
       "    </tr>\n",
       "    <tr>\n",
       "      <th>1</th>\n",
       "      <td>PLAIN-10</td>\n",
       "      <td>MED-5101</td>\n",
       "    </tr>\n",
       "    <tr>\n",
       "      <th>2</th>\n",
       "      <td>PLAIN-10</td>\n",
       "      <td>MED-3880</td>\n",
       "    </tr>\n",
       "  </tbody>\n",
       "</table>\n",
       "</div>"
      ],
      "text/plain": [
       "   QUERY_ID    DOC_ID\n",
       "0  PLAIN-10  MED-2494\n",
       "1  PLAIN-10  MED-5101\n",
       "2  PLAIN-10  MED-3880"
      ]
     },
     "execution_count": 91,
     "metadata": {},
     "output_type": "execute_result"
    }
   ],
   "source": [
    "#manully check whether there are duplicate query and doc\n",
    "results_dup = results.loc[:,['QUERY_ID','DOC_ID']]\n",
    "results_dup = results_dup.drop_duplicates()\n",
    "results_dup.head(3)"
   ]
  },
  {
   "cell_type": "markdown",
   "metadata": {},
   "source": [
    "## Precision (P) & Recall (R) "
   ]
  },
  {
   "cell_type": "markdown",
   "metadata": {},
   "source": [
    "Merge test and results datasets. One of parameters of pd.merge is \"how='outer'\" to get Union dateset."
   ]
  },
  {
   "cell_type": "code",
   "execution_count": 92,
   "metadata": {},
   "outputs": [
    {
     "data": {
      "text/html": [
       "<div>\n",
       "<style scoped>\n",
       "    .dataframe tbody tr th:only-of-type {\n",
       "        vertical-align: middle;\n",
       "    }\n",
       "\n",
       "    .dataframe tbody tr th {\n",
       "        vertical-align: top;\n",
       "    }\n",
       "\n",
       "    .dataframe thead th {\n",
       "        text-align: right;\n",
       "    }\n",
       "</style>\n",
       "<table border=\"1\" class=\"dataframe\">\n",
       "  <thead>\n",
       "    <tr style=\"text-align: right;\">\n",
       "      <th></th>\n",
       "      <th>QUERY_ID</th>\n",
       "      <th>DOC_ID</th>\n",
       "      <th>sim__results</th>\n",
       "      <th>RELEVANCE_LEVEL</th>\n",
       "    </tr>\n",
       "  </thead>\n",
       "  <tbody>\n",
       "    <tr>\n",
       "      <th>0</th>\n",
       "      <td>PLAIN-10</td>\n",
       "      <td>MED-2494</td>\n",
       "      <td>0.374199</td>\n",
       "      <td>0.237224</td>\n",
       "    </tr>\n",
       "    <tr>\n",
       "      <th>1</th>\n",
       "      <td>PLAIN-10</td>\n",
       "      <td>MED-5101</td>\n",
       "      <td>0.278249</td>\n",
       "      <td>0.049426</td>\n",
       "    </tr>\n",
       "    <tr>\n",
       "      <th>2</th>\n",
       "      <td>PLAIN-10</td>\n",
       "      <td>MED-3880</td>\n",
       "      <td>0.259749</td>\n",
       "      <td>0.040855</td>\n",
       "    </tr>\n",
       "  </tbody>\n",
       "</table>\n",
       "</div>"
      ],
      "text/plain": [
       "   QUERY_ID    DOC_ID  sim__results  RELEVANCE_LEVEL\n",
       "0  PLAIN-10  MED-2494      0.374199         0.237224\n",
       "1  PLAIN-10  MED-5101      0.278249         0.049426\n",
       "2  PLAIN-10  MED-3880      0.259749         0.040855"
      ]
     },
     "execution_count": 92,
     "metadata": {},
     "output_type": "execute_result"
    }
   ],
   "source": [
    "# 1.Merge results data with test data \n",
    "# 2.Replace Nan with 0\n",
    "merge = pd.merge(results, test, how='outer', on=['QUERY_ID','DOC_ID'])\n",
    "merge.fillna(0, inplace=True)\n",
    "merge.head(3)"
   ]
  },
  {
   "cell_type": "code",
   "execution_count": 93,
   "metadata": {},
   "outputs": [
    {
     "data": {
      "text/html": [
       "<div>\n",
       "<style scoped>\n",
       "    .dataframe tbody tr th:only-of-type {\n",
       "        vertical-align: middle;\n",
       "    }\n",
       "\n",
       "    .dataframe tbody tr th {\n",
       "        vertical-align: top;\n",
       "    }\n",
       "\n",
       "    .dataframe thead th {\n",
       "        text-align: right;\n",
       "    }\n",
       "</style>\n",
       "<table border=\"1\" class=\"dataframe\">\n",
       "  <thead>\n",
       "    <tr style=\"text-align: right;\">\n",
       "      <th></th>\n",
       "      <th>QUERY_ID</th>\n",
       "      <th>DOC_ID</th>\n",
       "    </tr>\n",
       "  </thead>\n",
       "  <tbody>\n",
       "    <tr>\n",
       "      <th>0</th>\n",
       "      <td>PLAIN-10</td>\n",
       "      <td>MED-2494</td>\n",
       "    </tr>\n",
       "    <tr>\n",
       "      <th>1</th>\n",
       "      <td>PLAIN-10</td>\n",
       "      <td>MED-5101</td>\n",
       "    </tr>\n",
       "    <tr>\n",
       "      <th>2</th>\n",
       "      <td>PLAIN-10</td>\n",
       "      <td>MED-3880</td>\n",
       "    </tr>\n",
       "  </tbody>\n",
       "</table>\n",
       "</div>"
      ],
      "text/plain": [
       "   QUERY_ID    DOC_ID\n",
       "0  PLAIN-10  MED-2494\n",
       "1  PLAIN-10  MED-5101\n",
       "2  PLAIN-10  MED-3880"
      ]
     },
     "execution_count": 93,
     "metadata": {},
     "output_type": "execute_result"
    }
   ],
   "source": [
    "#manully check whether there are duplicate query and doc\n",
    "merge_dup = merge.loc[:,['QUERY_ID','DOC_ID']]\n",
    "merge_dup = merge_dup.drop_duplicates()\n",
    "merge_dup.head(3)"
   ]
  },
  {
   "cell_type": "markdown",
   "metadata": {},
   "source": [
    "tp: retrieved & relevant—— sim\\__results !=0 & RELEVANCE\\_LEVEL !=0  \n",
    "fp: retrieved & not relevant—— sim\\__results !=0 & RELEVANCE\\_LEVEL==0  \n",
    "fn: not retrieved & relevant—— sim\\__results ==0 & RELEVANCE\\_LEVEL !=0  \n",
    "tn: not retrieved & not relevant—— sim\\__results ==0 & RELEVANCE\\_LEVEL ==0"
   ]
  },
  {
   "cell_type": "code",
   "execution_count": 94,
   "metadata": {},
   "outputs": [],
   "source": [
    "tp = merge.loc[(merge[\"sim__results\"] != 0)& (merge[\"RELEVANCE_LEVEL\"] != 0)] \n",
    "tp=tp.shape[0] \n",
    "fp = merge.loc[(merge[\"sim__results\"] != 0)& (merge[\"RELEVANCE_LEVEL\"] == 0)]\n",
    "fp=fp.shape[0] \n",
    "fn = merge.loc[(merge[\"sim__results\"] == 0)& (merge[\"RELEVANCE_LEVEL\"] != 0)]\n",
    "fn=fn.shape[0] \n",
    "tn = merge.loc[(merge[\"sim__results\"] == 0)& (merge[\"RELEVANCE_LEVEL\"] == 0)]\n",
    "tn=tn.shape[0] "
   ]
  },
  {
   "cell_type": "code",
   "execution_count": 95,
   "metadata": {},
   "outputs": [
    {
     "name": "stdout",
     "output_type": "stream",
     "text": [
      "0.817\n"
     ]
    }
   ],
   "source": [
    "# precision =tp/(tp+fp)\n",
    "tpfp = tp+fp\n",
    "precision = tp/tpfp\n",
    "print (\"%.3f\" % precision)"
   ]
  },
  {
   "cell_type": "code",
   "execution_count": 96,
   "metadata": {
    "scrolled": true
   },
   "outputs": [
    {
     "name": "stdout",
     "output_type": "stream",
     "text": [
      "0.057\n"
     ]
    }
   ],
   "source": [
    "#recall = tp/tp+fn\n",
    "tpfn = tp+fn\n",
    "recall = tp/tpfn\n",
    "print (\"%.3f\" % recall)"
   ]
  },
  {
   "cell_type": "markdown",
   "metadata": {},
   "source": [
    "## P@K & R_precision"
   ]
  },
  {
   "cell_type": "code",
   "execution_count": 97,
   "metadata": {},
   "outputs": [
    {
     "data": {
      "text/html": [
       "<div>\n",
       "<style scoped>\n",
       "    .dataframe tbody tr th:only-of-type {\n",
       "        vertical-align: middle;\n",
       "    }\n",
       "\n",
       "    .dataframe tbody tr th {\n",
       "        vertical-align: top;\n",
       "    }\n",
       "\n",
       "    .dataframe thead th {\n",
       "        text-align: right;\n",
       "    }\n",
       "</style>\n",
       "<table border=\"1\" class=\"dataframe\">\n",
       "  <thead>\n",
       "    <tr style=\"text-align: right;\">\n",
       "      <th></th>\n",
       "      <th>QUERY_ID</th>\n",
       "      <th>DOC_ID</th>\n",
       "      <th>sim__results</th>\n",
       "      <th>RELEVANCE_LEVEL</th>\n",
       "    </tr>\n",
       "  </thead>\n",
       "  <tbody>\n",
       "    <tr>\n",
       "      <th>38196</th>\n",
       "      <td>PLAIN-10</td>\n",
       "      <td>MED-2054</td>\n",
       "      <td>0.0</td>\n",
       "      <td>0.274678</td>\n",
       "    </tr>\n",
       "    <tr>\n",
       "      <th>38197</th>\n",
       "      <td>PLAIN-10</td>\n",
       "      <td>MED-1985</td>\n",
       "      <td>0.0</td>\n",
       "      <td>0.271303</td>\n",
       "    </tr>\n",
       "    <tr>\n",
       "      <th>38198</th>\n",
       "      <td>PLAIN-10</td>\n",
       "      <td>MED-2058</td>\n",
       "      <td>0.0</td>\n",
       "      <td>0.258340</td>\n",
       "    </tr>\n",
       "  </tbody>\n",
       "</table>\n",
       "</div>"
      ],
      "text/plain": [
       "       QUERY_ID    DOC_ID  sim__results  RELEVANCE_LEVEL\n",
       "38196  PLAIN-10  MED-2054           0.0         0.274678\n",
       "38197  PLAIN-10  MED-1985           0.0         0.271303\n",
       "38198  PLAIN-10  MED-2058           0.0         0.258340"
      ]
     },
     "execution_count": 97,
     "metadata": {},
     "output_type": "execute_result"
    }
   ],
   "source": [
    "# 1.Merge results data with test data \n",
    "# 2.Replace Nan with 0\n",
    "merge1 = pd.merge(results, test, how='right', on=['QUERY_ID','DOC_ID'])\n",
    "merge1.sort_values(['QUERY_ID', 'RELEVANCE_LEVEL'], ascending=[True, False], inplace=True)#merge1.fillna(0, inplace=True)\n",
    "merge1.fillna(0, inplace=True)\n",
    "merge1.head(3)"
   ]
  },
  {
   "cell_type": "code",
   "execution_count": 98,
   "metadata": {},
   "outputs": [
    {
     "data": {
      "text/plain": [
       "array([0., 0., 0., ..., 0., 0., 0.])"
      ]
     },
     "execution_count": 98,
     "metadata": {},
     "output_type": "execute_result"
    }
   ],
   "source": [
    "r = merge1['sim__results']\n",
    "r =np.array(r)\n",
    "r"
   ]
  },
  {
   "cell_type": "code",
   "execution_count": 99,
   "metadata": {},
   "outputs": [
    {
     "name": "stdout",
     "output_type": "stream",
     "text": [
      "P@K: 0.2\n"
     ]
    }
   ],
   "source": [
    "def precision_at_k(r, k):\n",
    "    assert k >= 1\n",
    "    r = np.asarray(r)[:k] != 0\n",
    "    if r.size != k:\n",
    "        raise ValueError('Relevance score length < k')\n",
    "    return np.mean(r)\n",
    "c = precision_at_k(r,10)\n",
    "print(\"P@K:\", c )"
   ]
  },
  {
   "cell_type": "code",
   "execution_count": 100,
   "metadata": {},
   "outputs": [
    {
     "name": "stdout",
     "output_type": "stream",
     "text": [
      "R_precision: 0.05713379683367836\n"
     ]
    }
   ],
   "source": [
    "def r_precision(r):\n",
    "    r = np.asarray(r) != 0\n",
    "    z = r.nonzero()[0]\n",
    "    if not z.size:\n",
    "        return 0.\n",
    "    return np.mean(r[:z[-1] + 1])\n",
    "c = r_precision(r)\n",
    "print(\"R_precision:\",c)"
   ]
  },
  {
   "cell_type": "markdown",
   "metadata": {},
   "source": [
    "## AP & MAP"
   ]
  },
  {
   "cell_type": "code",
   "execution_count": 101,
   "metadata": {},
   "outputs": [
    {
     "data": {
      "text/html": [
       "<div>\n",
       "<style scoped>\n",
       "    .dataframe tbody tr th:only-of-type {\n",
       "        vertical-align: middle;\n",
       "    }\n",
       "\n",
       "    .dataframe tbody tr th {\n",
       "        vertical-align: top;\n",
       "    }\n",
       "\n",
       "    .dataframe thead th {\n",
       "        text-align: right;\n",
       "    }\n",
       "</style>\n",
       "<table border=\"1\" class=\"dataframe\">\n",
       "  <thead>\n",
       "    <tr style=\"text-align: right;\">\n",
       "      <th></th>\n",
       "      <th>QUERY_ID</th>\n",
       "      <th>DOC_ID</th>\n",
       "      <th>RELEVANCE_LEVEL</th>\n",
       "      <th>QUERY_DOC</th>\n",
       "    </tr>\n",
       "  </thead>\n",
       "  <tbody>\n",
       "    <tr>\n",
       "      <th>0</th>\n",
       "      <td>PLAIN-10</td>\n",
       "      <td>MED-2054</td>\n",
       "      <td>0.274678</td>\n",
       "      <td>PLAIN-10MED-2054</td>\n",
       "    </tr>\n",
       "    <tr>\n",
       "      <th>1</th>\n",
       "      <td>PLAIN-10</td>\n",
       "      <td>MED-1985</td>\n",
       "      <td>0.271303</td>\n",
       "      <td>PLAIN-10MED-1985</td>\n",
       "    </tr>\n",
       "    <tr>\n",
       "      <th>2</th>\n",
       "      <td>PLAIN-10</td>\n",
       "      <td>MED-2058</td>\n",
       "      <td>0.258340</td>\n",
       "      <td>PLAIN-10MED-2058</td>\n",
       "    </tr>\n",
       "  </tbody>\n",
       "</table>\n",
       "</div>"
      ],
      "text/plain": [
       "   QUERY_ID    DOC_ID  RELEVANCE_LEVEL         QUERY_DOC\n",
       "0  PLAIN-10  MED-2054         0.274678  PLAIN-10MED-2054\n",
       "1  PLAIN-10  MED-1985         0.271303  PLAIN-10MED-1985\n",
       "2  PLAIN-10  MED-2058         0.258340  PLAIN-10MED-2058"
      ]
     },
     "execution_count": 101,
     "metadata": {},
     "output_type": "execute_result"
    }
   ],
   "source": [
    "#join 'QUERY_ID' and 'DOC_ID' as 'QUERY_DOC', in order to cpmpare in the next steps\n",
    "test['QUERY_DOC'] = test[['QUERY_ID', 'DOC_ID']].apply(lambda x: ''.join(x), axis=1)\n",
    "QD_test = test\n",
    "QD_test.head(3)"
   ]
  },
  {
   "cell_type": "code",
   "execution_count": 102,
   "metadata": {},
   "outputs": [
    {
     "data": {
      "text/html": [
       "<div>\n",
       "<style scoped>\n",
       "    .dataframe tbody tr th:only-of-type {\n",
       "        vertical-align: middle;\n",
       "    }\n",
       "\n",
       "    .dataframe tbody tr th {\n",
       "        vertical-align: top;\n",
       "    }\n",
       "\n",
       "    .dataframe thead th {\n",
       "        text-align: right;\n",
       "    }\n",
       "</style>\n",
       "<table border=\"1\" class=\"dataframe\">\n",
       "  <thead>\n",
       "    <tr style=\"text-align: right;\">\n",
       "      <th></th>\n",
       "      <th>QUERY_ID</th>\n",
       "      <th>DOC_ID</th>\n",
       "      <th>sim__results</th>\n",
       "      <th>QUERY_DOC</th>\n",
       "    </tr>\n",
       "  </thead>\n",
       "  <tbody>\n",
       "    <tr>\n",
       "      <th>0</th>\n",
       "      <td>PLAIN-10</td>\n",
       "      <td>MED-2494</td>\n",
       "      <td>0.374199</td>\n",
       "      <td>PLAIN-10MED-2494</td>\n",
       "    </tr>\n",
       "    <tr>\n",
       "      <th>1</th>\n",
       "      <td>PLAIN-10</td>\n",
       "      <td>MED-5101</td>\n",
       "      <td>0.278249</td>\n",
       "      <td>PLAIN-10MED-5101</td>\n",
       "    </tr>\n",
       "    <tr>\n",
       "      <th>2</th>\n",
       "      <td>PLAIN-10</td>\n",
       "      <td>MED-3880</td>\n",
       "      <td>0.259749</td>\n",
       "      <td>PLAIN-10MED-3880</td>\n",
       "    </tr>\n",
       "  </tbody>\n",
       "</table>\n",
       "</div>"
      ],
      "text/plain": [
       "   QUERY_ID    DOC_ID  sim__results         QUERY_DOC\n",
       "0  PLAIN-10  MED-2494      0.374199  PLAIN-10MED-2494\n",
       "1  PLAIN-10  MED-5101      0.278249  PLAIN-10MED-5101\n",
       "2  PLAIN-10  MED-3880      0.259749  PLAIN-10MED-3880"
      ]
     },
     "execution_count": 102,
     "metadata": {},
     "output_type": "execute_result"
    }
   ],
   "source": [
    "#join 'QUERY_ID' and 'DOC_ID' as 'QUERY_DOC', in order to cpmpare in the next steps\n",
    "results['QUERY_DOC'] = results[['QUERY_ID', 'DOC_ID']].apply(lambda x: ''.join(x), axis=1)\n",
    "results1 = results\n",
    "results1.head(3)"
   ]
  },
  {
   "cell_type": "code",
   "execution_count": 103,
   "metadata": {},
   "outputs": [
    {
     "name": "stdout",
     "output_type": "stream",
     "text": [
      "['PLAIN-10MED-2494', 'PLAIN-10MED-5101', 'PLAIN-10MED-3880']\n"
     ]
    }
   ],
   "source": [
    "#Transform to list\n",
    "QD_results = results1['QUERY_DOC']\n",
    "QD_results = QD_results.tolist()\n",
    "print(QD_results[:3])"
   ]
  },
  {
   "cell_type": "code",
   "execution_count": 104,
   "metadata": {},
   "outputs": [
    {
     "name": "stdout",
     "output_type": "stream",
     "text": [
      "AP: 0.00000\n"
     ]
    }
   ],
   "source": [
    "# Caluate average precison\n",
    "def ap(QD_results1, QD_test1):\n",
    "    for i,p in enumerate(QD_test1): \n",
    "        score = 0\n",
    "        num_hits = 0\n",
    "        if p in QD_results1 and p not in QD_test1[:i]:\n",
    "            num_hits += 1  \n",
    "            score += num_hits / (i+1) \n",
    "    if not QD_results1:\n",
    "        return 0\n",
    "    return score / len(QD_results1)\n",
    "E = ap(QD_results, QD_test) \n",
    "print (\"AP:\",\"%.5f\" % E)"
   ]
  },
  {
   "cell_type": "code",
   "execution_count": 105,
   "metadata": {},
   "outputs": [
    {
     "name": "stdout",
     "output_type": "stream",
     "text": [
      "MAP 0.00195\n"
     ]
    }
   ],
   "source": [
    "# Caluate mean average precison\n",
    "def map(actual, predicted):\n",
    "    return np.mean([ap(a,p) for a,p in zip(actual, predicted)])                    \n",
    "D = map(QD_results, QD_test) \n",
    "print (\"MAP:\",\"%.5f\" % D)"
   ]
  },
  {
   "cell_type": "markdown",
   "metadata": {},
   "source": [
    "## DCG & nDCG"
   ]
  },
  {
   "cell_type": "code",
   "execution_count": 106,
   "metadata": {},
   "outputs": [
    {
     "data": {
      "text/plain": [
       "\"\\nresults_sim = results['sim__results']\\nresults_sim = np.percentile(results_sim, [33,67])\\nresults_sim #array([0.03233572, 0.08731153])\\nresults['Nor__results']=results['sim__results']  \\nresults.loc[ results['sim__results'] <= 0.03233572,'Nor__results']=1 \\nresults.loc[ (results['sim__results'] > 0.03233572) & (results['sim__results'] <= 0.08731153),'Nor__results']=2\\nresults.loc[ results['sim__results'] > 0.08731153,'Nor__results']=3 \\nresults.head()\\n\""
      ]
     },
     "execution_count": 106,
     "metadata": {},
     "output_type": "execute_result"
    }
   ],
   "source": [
    "#If we use test 3-2-1.qurl as our test dataset, we need to normalize results datasets.\n",
    "#normalize similarity of results dataset, deveded them into 3 levels according to percentile(number)\n",
    "'''\n",
    "results_sim = results['sim__results']\n",
    "results_sim = np.percentile(results_sim, [33,67])\n",
    "results_sim #array([0.03233572, 0.08731153])\n",
    "results['Nor__results']=results['sim__results']  \n",
    "results.loc[ results['sim__results'] <= 0.03233572,'Nor__results']=1 \n",
    "results.loc[ (results['sim__results'] > 0.03233572) & (results['sim__results'] <= 0.08731153),'Nor__results']=2\n",
    "results.loc[ results['sim__results'] > 0.08731153,'Nor__results']=3 \n",
    "results.head()\n",
    "'''"
   ]
  },
  {
   "cell_type": "code",
   "execution_count": 107,
   "metadata": {},
   "outputs": [
    {
     "name": "stdout",
     "output_type": "stream",
     "text": [
      "[0.3741988  0.27824872 0.25974862]\n"
     ]
    }
   ],
   "source": [
    "# Prepare input. It should be array\n",
    "sim_results = results['sim__results']\n",
    "#sim_results = merge1['sim__results']\n",
    "sim_test = test['RELEVANCE_LEVEL']\n",
    "sim_results = np.array(sim_results)\n",
    "sim_test = np.array(sim_test)\n",
    "print(sim_results[:3])"
   ]
  },
  {
   "cell_type": "code",
   "execution_count": 108,
   "metadata": {},
   "outputs": [],
   "source": [
    "def dcg_score(a, b,k=10,gains=\"exponential\"):\n",
    "    order = np.argsort(-b)[::-1]\n",
    "    a = np.take(a, order[:k])\n",
    "\n",
    "    if gains == \"exponential\":\n",
    "        gains = 2 ** a - 1 \n",
    "    elif gains == \"linear\":\n",
    "        gains = a\n",
    "    else:\n",
    "        raise ValueError(\"Invalid gains option.\")\n",
    "\n",
    "    # highest rank is 1 so +2 instead of +1\n",
    "    discounts = np.log2(np.arange(len(a)) + 2)\n",
    "    return np.sum(gains / discounts)\n",
    "\n",
    "    best = dcg_score(a, a,gains)\n",
    "    actual = dcg_score(a, b,gains)\n",
    "    return actual / best"
   ]
  },
  {
   "cell_type": "code",
   "execution_count": 109,
   "metadata": {},
   "outputs": [
    {
     "name": "stdout",
     "output_type": "stream",
     "text": [
      "nDCG: 0.05915260576948616\n"
     ]
    }
   ],
   "source": [
    "def ndcg_score(a, b, gains=\"exponential\"):\n",
    "    best = dcg_score(a, a,gains)\n",
    "    actual = dcg_score(a, b,gains)\n",
    "    return actual / best\n",
    "c = dcg_score(sim_test, sim_results,gains=\"exponential\")#(np.all\n",
    "print(\"nDCG:\",c)"
   ]
  },
  {
   "cell_type": "code",
   "execution_count": null,
   "metadata": {},
   "outputs": [],
   "source": []
  }
 ],
 "metadata": {
  "kernelspec": {
   "display_name": "Python 3",
   "language": "python",
   "name": "python3"
  },
  "language_info": {
   "codemirror_mode": {
    "name": "ipython",
    "version": 3
   },
   "file_extension": ".py",
   "mimetype": "text/x-python",
   "name": "python",
   "nbconvert_exporter": "python",
   "pygments_lexer": "ipython3",
   "version": "3.6.4"
  }
 },
 "nbformat": 4,
 "nbformat_minor": 2
}
