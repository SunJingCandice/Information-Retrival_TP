{
 "cells": [
  {
   "cell_type": "code",
   "execution_count": null,
   "metadata": {},
   "outputs": [],
   "source": [
    "#Import the data of the given file.\n",
    "#@author: Thorsten Keiper\n",
    "\n",
    "import csv"
   ]
  },
  {
   "cell_type": "code",
   "execution_count": null,
   "metadata": {},
   "outputs": [],
   "source": [
    "#Import the data of the file specifiedin filename.\n",
    "#@author\n",
    "#@param filename: string, the filename of the file that should be opened.\n",
    "#    Can also be a relative path.\n",
    "#@param separator: character (or string) for the separation of the entries of the file.\n",
    "#    Default is \\t (tabulator), because it's used in our data set.\n",
    "#@return data: list where each entry is one line in the given file. Each entry has as many dimensions,\n",
    "#    as the line in the file had (separated by the character in separator).\n",
    "def readFile(filename, separator='\\t'):\n",
    "    data=[]\n",
    "    #print(\"Start reading the data.\")\n",
    "    with open(filename) as file:\n",
    "        for line in file:\n",
    "            data.append(line.strip().split(separator))\n",
    "    #print(\"Completed reading the data.\")\n",
    "    return data"
   ]
  },
  {
   "cell_type": "raw",
   "metadata": {},
   "source": [
    "#for testing\n",
    "#data=readFile('nfcorpus/raw/nfdump.txt')\n",
    "data=readFile('nfcorpus/raw/doc_dump.txt')\n",
    "print(len(data))\n",
    "print(len(data[0]))\n",
    "#for x in data[0]:\n",
    "#    print(x)"
   ]
  },
  {
   "cell_type": "raw",
   "metadata": {},
   "source": [
    "ids=readFile('nfcorpus/raw/train.docs.ids')\n",
    "#ids=readFile('nfcorpus/raw/dev.docs.ids')\n",
    "#ids=readFile('nfcorpus/raw/test.docs.ids')\n",
    "\n",
    "print(len(ids))\n",
    "#print(len(ids[0]))\n",
    "#for x in ids[0]:\n",
    "#    print(x)"
   ]
  },
  {
   "cell_type": "raw",
   "metadata": {},
   "source": [
    "train=[]\n",
    "#for id in ids:\n",
    "#    for item in data:\n",
    "#        if(id[0]==item[0]):\n",
    "#            train.append(item)\n",
    "\n",
    "#faster way\n",
    "pointer=0\n",
    "data.sort()\n",
    "ids.sort()\n",
    "for id in ids:\n",
    "    while(data[pointer][0] != id[0]):\n",
    "        pointer+=1\n",
    "    train.append(data[pointer])\n",
    "print(len(train))"
   ]
  }
 ],
 "metadata": {
  "kernelspec": {
   "display_name": "Python 3",
   "language": "python",
   "name": "python3"
  },
  "language_info": {
   "codemirror_mode": {
    "name": "ipython",
    "version": 3
   },
   "file_extension": ".py",
   "mimetype": "text/x-python",
   "name": "python",
   "nbconvert_exporter": "python",
   "pygments_lexer": "ipython3",
   "version": "3.6.4"
  }
 },
 "nbformat": 4,
 "nbformat_minor": 2
}
