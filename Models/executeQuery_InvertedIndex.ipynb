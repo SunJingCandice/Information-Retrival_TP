{
 "cells": [
  {
   "cell_type": "code",
   "execution_count": null,
   "metadata": {},
   "outputs": [],
   "source": [
    "#This file is responsible for executing a single query on the inverted index.\n",
    "#Builds on executeQuery.\n",
    "#@author: Thorsten"
   ]
  },
  {
   "cell_type": "code",
   "execution_count": null,
   "metadata": {},
   "outputs": [],
   "source": [
    "#Initialise the query execution by storing the information needed for query execution.\n",
    "#Also calls the build index function, so initializes the inverted index.\n",
    "#@param documents: documents as list of strings, each string is one document.\n",
    "#@param documentIDs: list (or array) containing the IDs of the documents in the same order as documents.\n",
    "#@param translationFunction: function which takes the query as argument and does the preprocessing, necessary to\n",
    "#    execute the query. Here returns a list of strings.\n",
    "#    @see https://www.filipekberg.se/2009/11/30/function-pointers-in-c-and-python-and-their-possible-usage/\n",
    "#@param initFunction: function which builds/initializes the index. Docs will be transformed using the\n",
    "#    given transformation function before passed through.\n",
    "#@author: Thorsten\n",
    "\n",
    "import InvertedIndex\n",
    "import numpy as np\n",
    "func=None\n",
    "docIDs=None\n",
    "invertedIndex=None\n",
    "index=None\n",
    "wordList=None\n",
    "docIDs_LookupTable=None\n",
    "def initExecution(documents, documentIDs, transformationFunction=InvertedIndex.preprocess, initFunction=InvertedIndex.buildIndex):\n",
    "    global func\n",
    "    global docIDs\n",
    "    global invertedIndex\n",
    "    global index\n",
    "    global wordList\n",
    "    global docIDs_LookupTable\n",
    "    func=transformationFunction\n",
    "    docIDs=np.array(documentIDs)\n",
    "    documents=np.array(documents)\n",
    "    documents=[func(doc) for doc in documents]\n",
    "    InvertedIndex.buildIndex(documents, docIDs)\n",
    "    invertedIndex=InvertedIndex.invertedIndex\n",
    "    index=InvertedIndex.index\n",
    "    wordList=InvertedIndex.wordList\n",
    "    docIDs_LookupTable={}\n",
    "    for i in range(len(docIDs)):\n",
    "        docIDs_LookupTable[docIDs[i]]=i"
   ]
  },
  {
   "cell_type": "code",
   "execution_count": null,
   "metadata": {},
   "outputs": [],
   "source": [
    "#Execute the given query on the data set and using the method given before using the method initExecution.\n",
    "#First it's tryed to execute the query using the inverted index. If documents survive, they are ranked\n",
    "#using the cosine similarity which is computed only for these documents to the query.\n",
    "#If no documnets survive the inverted index, this method falls back to executing the query in the normal way;\n",
    "#computing the cosine similiarity to all documents in the collection.\n",
    "#@param query: string, the query that should be executed\n",
    "#@param sort: boolean, define if the results should be sorted descending (True). Can be disabled for saving\n",
    "#    the computational power for sorting. Default: True (enabled)\n",
    "#@return results: numpy.array, containing the results of the query (document IDs).\n",
    "#    Note: Not all documents in the collection are returned if the inverted index search was good..\n",
    "#@return similarities: numpy.array, the similarities for the results, same order.\n",
    "#@author: Thorsten\n",
    "import functools\n",
    "#import tensorflow as tf #in the tests, tensorflow was slower\n",
    "#sess = tf.InteractiveSession()\n",
    "def executeQuery(query, sort=True):\n",
    "    #if val is not None\n",
    "    if((func is None)|(docIDs is None)|(invertedIndex is None)|(index is None)|(wordList is None)): #test if initialised\n",
    "        print('Error: Tryed to execute query without initialising.')\n",
    "        print('Call the method initExecution(documents, transformationFunction) for preventing the needed information.')\n",
    "        return None\n",
    "    #preprocess the query\n",
    "    queryRepresentation=func(query)\n",
    "    if(len(queryRepresentation)<1):\n",
    "        return np.array([]), np.array([]) #all search words removed as stop words which are not indexed\n",
    "    #first try by using the inverted index\n",
    "    indexLists=np.array([invertedIndex.get(word, []) for word in queryRepresentation])\n",
    "    #merge the lists\n",
    "    indexLists=functools.reduce(np.intersect1d, indexLists)\n",
    "    if(len(indexLists)==0): #inverted index search found nothing which contains all words\n",
    "        indexLists=np.array(range(len(index))) #work with all index entries from now on\n",
    "    else:\n",
    "        #indexLists=np.array([list(docIDs).index(word) for word in indexLists]) #too slow\n",
    "        indexLists=np.array([docIDs_LookupTable[word] for word in indexLists])\n",
    "    #get the word vector\n",
    "    queryRepresentation=np.sort(queryRepresentation)\n",
    "    wordVector=np.zeros(len(wordList))\n",
    "    pointer=0\n",
    "    for i in range(len(queryRepresentation)):\n",
    "        if(not queryRepresentation[i] in wordList):\n",
    "            continue\n",
    "        while(wordList[pointer]<queryRepresentation[i]):\n",
    "            pointer+=1\n",
    "        wordVector[pointer]+=1\n",
    "    norm=np.linalg.norm(wordVector)\n",
    "    if(norm==0):\n",
    "        #no word of the query indexed, so nothing found\n",
    "        return np.array([]), np.array([])\n",
    "    wordVector/=norm #normalize the word vector, doc vectors are already\n",
    "    #compute the similarity (here cosine similarity)\n",
    "    #dot product is enough becuase it was normalized before\n",
    "    similarities=np.array(list(map(wordVector.dot, index[indexLists])))\n",
    "    #a=tf.constant(index[indexLists])\n",
    "    #b=tf.constant(wordVector)\n",
    "    #similarities=tf.einsum('dw,w->d', a, b).eval()\n",
    "\n",
    "    results=docIDs[indexLists]\n",
    "    #sort the result\n",
    "    if(sort==True):\n",
    "        inds=np.argsort(similarities)[::-1]\n",
    "        similarities=similarities[inds]\n",
    "        results=results[inds]\n",
    "    return results, similarities"
   ]
  },
  {
   "cell_type": "code",
   "execution_count": null,
   "metadata": {},
   "outputs": [],
   "source": [
    "#for testing\n",
    "#teststring='This is a test-string!            Just play/trick. asdf he is, she was , dump, dumps, trains, simulations.'\n",
    "#docs=\"This is just a simple test document. Try and let's see what happens. Just test, test and test.\"\n",
    "#dump='test test test test test'\n",
    "#initExecution([teststring, docs, dump], ['teststring', 'docs', 'dump'])"
   ]
  },
  {
   "cell_type": "code",
   "execution_count": null,
   "metadata": {},
   "outputs": [],
   "source": [
    "#query='Simple test!'\n",
    "#results, similarities=executeQuery(query)\n",
    "#print(results)\n",
    "#print(similarities)"
   ]
  },
  {
   "cell_type": "code",
   "execution_count": null,
   "metadata": {},
   "outputs": [],
   "source": [
    "#import loadDataRaw\n",
    "#import time\n",
    "#documents=np.array(loadDataRaw.readFile('train.docs'))\n",
    "#initExecution(documents[:,1], documents[:,0])"
   ]
  },
  {
   "cell_type": "code",
   "execution_count": null,
   "metadata": {},
   "outputs": [],
   "source": [
    "#query='This is a test!'\n",
    "#query='This is a tset shit!'\n",
    "#query='statin breast cancer survival nationwide cohort study finland abstract recent studies suggested statins established drug group prevention cardiovascular mortality delay prevent breast cancer recurrence effect disease-specific mortality remains unclear evaluated risk breast cancer death statin users population-based cohort breast cancer patients study cohort included newly diagnosed breast cancer patients finland num num num cases identified finnish cancer registry information statin diagnosis obtained national prescription database cox proportional hazards regression method estimate mortality statin users statin time-dependent variable total num participants statins median follow-up num years diagnosis range num num years num participants died num num due breast cancer adjustment age tumor characteristics treatment selection post-diagnostic pre-diagnostic statin lowered risk breast cancer death hr num num ci num num hr num num ci num num risk decrease post-diagnostic statin affected healthy adherer bias greater likelihood dying cancer patients discontinue statin association dose-dependent observed low-dose/short-term dose time-dependence survival benefit pre-diagnostic statin users suggests causal effect evaluated clinical trial testing statins effect survival breast cancer patients '\n",
    "#timeBefore=time.perf_counter()\n",
    "#result=executeQuery(query, sort=False)\n",
    "#timeAfter=time.perf_counter()\n",
    "#print(timeAfter-timeBefore)\n",
    "#print(len(result[1]))\n",
    "#print(InvertedIndex.preprocess(query))\n",
    "#print(result[1])"
   ]
  }
 ],
 "metadata": {
  "kernelspec": {
   "display_name": "Python 3",
   "language": "python",
   "name": "python3"
  },
  "language_info": {
   "codemirror_mode": {
    "name": "ipython",
    "version": 3
   },
   "file_extension": ".py",
   "mimetype": "text/x-python",
   "name": "python",
   "nbconvert_exporter": "python",
   "pygments_lexer": "ipython3",
   "version": "3.6.4"
  }
 },
 "nbformat": 4,
 "nbformat_minor": 2
}
